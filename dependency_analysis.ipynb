{
 "cells": [
  {
   "cell_type": "code",
   "execution_count": 2,
   "metadata": {},
   "outputs": [],
   "source": [
    "import pickle\n",
    "import numpy as np\n",
    "import pandas as pd\n",
    "import string\n",
    "from tqdm import tqdm"
   ]
  },
  {
   "cell_type": "code",
   "execution_count": 3,
   "metadata": {},
   "outputs": [],
   "source": [
    "with open('dependencies_new.txt') as file:\n",
    "    dependencies = pickle.load(file)\n",
    "with open('dependencies_new_new.txt') as file:\n",
    "    dependencies_2=pickle.load(file)\n",
    "data=dependencies+dependencies_2"
   ]
  },
  {
   "cell_type": "code",
   "execution_count": 102,
   "metadata": {
    "collapsed": true
   },
   "outputs": [],
   "source": [
    "data=[d for d in data if d != [] and d is not None]"
   ]
  },
  {
   "cell_type": "code",
   "execution_count": 82,
   "metadata": {},
   "outputs": [],
   "source": [
    "data_new = []\n",
    "for review in data:\n",
    "    dependencies = []\n",
    "    for dependency in review[0]:\n",
    "        dependency_new = []\n",
    "        for element in dependency:\n",
    "            if type(element) == tuple:\n",
    "                dependency_new.append(list(element))\n",
    "            else:\n",
    "                dependency_new.append(element)\n",
    "        dependencies.append(dependency_new)\n",
    "    data_new.append([dependencies, review[1]])\n",
    "with tqdm(total=len(data_new)) as pbar:\n",
    "    for i in range(len(data_new)):\n",
    "        for j in range(len(data_new[i][0])):\n",
    "            data_new[i][0][j][0][0] = data_new[i][0][j][0][0].lower()\n",
    "            data_new[i][0][j][2][0] = data_new[i][0][j][2][0].lower()\n",
    "            for punc in string.punctuation:\n",
    "                if punc in data_new[i][0][j][0][0]:\n",
    "                    data_new[i][0][j][0][0] = 'N/A'\n",
    "                if punc in data_new[i][0][j][2][0]:\n",
    "                    data_new[i][0][j][2][0] = 'N/A'\n",
    "        pbar.update(1)"
   ]
  },
  {
   "cell_type": "code",
   "execution_count": 84,
   "metadata": {},
   "outputs": [],
   "source": [
    "total = []\n",
    "for dependency in data_new:\n",
    "    if dependency != []:\n",
    "        if dependency[0] != []:\n",
    "            total.append(dependency[0])"
   ]
  },
  {
   "cell_type": "code",
   "execution_count": 18,
   "metadata": {},
   "outputs": [],
   "source": [
    "d={}\n",
    "for review in total:\n",
    "    for triple in review:\n",
    "        triple[0] = tuple(triple[0])\n",
    "        triple[2] = tuple(triple[2])\n",
    "        triple = tuple(triple)\n",
    "        if d.has_key(triple):\n",
    "            d[triple] += 1\n",
    "        else:\n",
    "            d[triple] = 1\n",
    "d_sorted = sorted(d.items(), key=lambda x:x[1],reverse=True)"
   ]
  },
  {
   "cell_type": "code",
   "execution_count": 85,
   "metadata": {},
   "outputs": [],
   "source": [
    "features = {}\n",
    "for review in total:\n",
    "    for dd in review:\n",
    "        if 'N/A' in dd[0][0] or 'N/A' in dd[2][0]:\n",
    "            continue\n",
    "        if u'JJ' in dd[0][1] and u'NN' in dd[2][1]:\n",
    "            if features.has_key(dd[2][0]):\n",
    "                features[dd[2][0]]['count'] += 1\n",
    "                if dd[0][0] not in features[dd[2][0]]['value']:\n",
    "                    features[dd[2][0]]['value'].append(dd[0][0])\n",
    "            else:\n",
    "                features[dd[2][0]]={}\n",
    "                features[dd[2][0]]['count']=1\n",
    "                features[dd[2][0]]['value']=[dd[0][0]]\n",
    "        elif u'JJ' in dd[2][1] and u'NN' in dd[0][1]:\n",
    "            if features.has_key(dd[0][0]):\n",
    "                features[dd[0][0]]['count'] += 1\n",
    "                if dd[2][0] not in features[dd[0][0]]['value']:\n",
    "                    features[dd[0][0]]['value'].append(dd[2][0])\n",
    "            else:\n",
    "                features[dd[0][0]]={}\n",
    "                features[dd[0][0]]['count']=1\n",
    "                features[dd[0][0]]['value']=[dd[2][0]]\n",
    "features_sorted = sorted(features.items(), key=lambda x:x[1]['count'],reverse=True)"
   ]
  },
  {
   "cell_type": "code",
   "execution_count": 126,
   "metadata": {
    "scrolled": true
   },
   "outputs": [
    {
     "name": "stderr",
     "output_type": "stream",
     "text": [
      "100%|██████████| 4897/4897 [00:52<00:00, 92.67it/s]\n"
     ]
    }
   ],
   "source": [
    "feature_dict = dict(features_sorted[:1000])\n",
    "for i, key in enumerate(feature_dict.keys()):\n",
    "    feature_dict[key]['index'] = i\n",
    "# generate feature matrix\n",
    "feature_matrix = []\n",
    "with tqdm(total=len(data)) as pbar:\n",
    "    for review in data_new:\n",
    "        feature_vector = np.zeros(1000)\n",
    "        for dependency in review[0]:\n",
    "            word1 = dependency[0][0].lower()\n",
    "            word2 = dependency[2][0].lower()\n",
    "            if word1 in feature_dict.keys():\n",
    "                if word2 in feature_dict[word1]['value']:\n",
    "                    feature_vector[feature_dict[word1]['index']] = feature_dict[word1]['value'].index(word2)\n",
    "            if word2 in feature_dict.keys():\n",
    "                if word1 in feature_dict[word2]['value']:\n",
    "                    feature_vector[feature_dict[word2]['index']] = feature_dict[word2]['value'].index(word1)\n",
    "        feature_matrix.append(feature_vector,)\n",
    "        pbar.update(1)\n",
    "feature_matrix = np.array(feature_matrix)"
   ]
  },
  {
   "cell_type": "code",
   "execution_count": 129,
   "metadata": {},
   "outputs": [
    {
     "name": "stdout",
     "output_type": "stream",
     "text": [
      "4\n"
     ]
    }
   ],
   "source": [
    "Cell_Phones_and_Accessories = pd.read_json('./data/reviews_Cell_Phones_and_Accessories_5.json', lines=True)\n",
    "ratings = []\n",
    "for review in data_new:\n",
    "    ratings.append(Cell_Phones_and_Accessories.iloc[review[1],2])\n",
    "np.savetxt('ratings_for_dp.csv', ratings, delimiter=',')"
   ]
  },
  {
   "cell_type": "code",
   "execution_count": 131,
   "metadata": {},
   "outputs": [],
   "source": [
    "np.savetxt('matrix_for_dp.csv', feature_matrix, delimiter=',')"
   ]
  },
  {
   "cell_type": "code",
   "execution_count": 135,
   "metadata": {},
   "outputs": [],
   "source": [
    "count = 0\n",
    "new_matrix = []\n",
    "new_ratings = []\n",
    "for i in range(len(feature_matrix)):\n",
    "    if np.sum(feature_matrix[i])!=0:\n",
    "        new_matrix.append(feature_matrix[i])\n",
    "        new_ratings.append(ratings[i])\n",
    "\n",
    "np.savetxt('ratings_for_dp.csv', new_ratings, delimiter=',')\n",
    "np.savetxt('matrix_for_dp.csv', new_matrix, delimiter=',')"
   ]
  },
  {
   "cell_type": "code",
   "execution_count": 136,
   "metadata": {},
   "outputs": [
    {
     "data": {
      "text/plain": [
       "4675"
      ]
     },
     "execution_count": 136,
     "metadata": {},
     "output_type": "execute_result"
    }
   ],
   "source": [
    "len(new_matrix)"
   ]
  },
  {
   "cell_type": "code",
   "execution_count": null,
   "metadata": {
    "collapsed": true
   },
   "outputs": [],
   "source": []
  }
 ],
 "metadata": {
  "anaconda-cloud": {},
  "kernelspec": {
   "display_name": "Python 2",
   "language": "python",
   "name": "python2"
  },
  "language_info": {
   "codemirror_mode": {
    "name": "ipython",
    "version": 2
   },
   "file_extension": ".py",
   "mimetype": "text/x-python",
   "name": "python",
   "nbconvert_exporter": "python",
   "pygments_lexer": "ipython2",
   "version": "2.7.13"
  }
 },
 "nbformat": 4,
 "nbformat_minor": 1
}
