{
 "cells": [
  {
   "cell_type": "code",
   "execution_count": null,
   "metadata": {
    "collapsed": true
   },
   "outputs": [],
   "source": [
    "#tfidf\n",
    "'''\n",
    "(194439, 100)\n",
    "1.01859050961\n",
    "\n",
    "(194439, 50)\n",
    "1.07117033989\n",
    "\n",
    "(194439, 200)\n",
    "1.00139164108\n",
    "\n",
    "(194439, 300)\n",
    "0.981878412924\n",
    "\n",
    "(194439, 400)\n",
    "0.949447125202\n",
    "\n",
    "(194439, 500)\n",
    "0.961094555961\n",
    "\n",
    "(194439, 600)\n",
    "0.936513939101\n",
    "\n",
    "(194439, 700)\n",
    "0.950959778548\n",
    "'''\n",
    "\n"
   ]
  }
 ],
 "metadata": {
  "anaconda-cloud": {},
  "kernelspec": {
   "display_name": "Python [default]",
   "language": "python",
   "name": "python2"
  },
  "language_info": {
   "codemirror_mode": {
    "name": "ipython",
    "version": 2
   },
   "file_extension": ".py",
   "mimetype": "text/x-python",
   "name": "python",
   "nbconvert_exporter": "python",
   "pygments_lexer": "ipython2",
   "version": "2.7.12"
  }
 },
 "nbformat": 4,
 "nbformat_minor": 1
}
