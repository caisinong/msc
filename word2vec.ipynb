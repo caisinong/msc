{
 "cells": [
  {
   "cell_type": "code",
   "execution_count": 139,
   "metadata": {
    "collapsed": false
   },
   "outputs": [],
   "source": [
    "from gensim.models import Word2Vec\n",
    "import pandas as pd\n",
    "import nltk\n",
    "from tqdm import tqdm\n",
    "import numpy as np"
   ]
  },
  {
   "cell_type": "code",
   "execution_count": 2,
   "metadata": {
    "collapsed": true
   },
   "outputs": [],
   "source": [
    "Cell_Phones_and_Accessories = pd.read_json('./data/reviews_Cell_Phones_and_Accessories_5.json', lines=True)"
   ]
  },
  {
   "cell_type": "code",
   "execution_count": 95,
   "metadata": {
    "collapsed": true
   },
   "outputs": [],
   "source": [
    "stopwords=[]\n",
    "with open('stopwords.txt') as file:\n",
    "    for line in file.readlines():\n",
    "        stopwords.append(line.strip())"
   ]
  },
  {
   "cell_type": "code",
   "execution_count": 109,
   "metadata": {
    "collapsed": false
   },
   "outputs": [
    {
     "name": "stderr",
     "output_type": "stream",
     "text": [
      "100%|██████████| 194439/194439 [01:36<00:00, 2008.11it/s]\n"
     ]
    }
   ],
   "source": [
    "sentences = []\n",
    "with tqdm(total = len(Cell_Phones_and_Accessories)) as pbar:\n",
    "    for review in Cell_Phones_and_Accessories.iloc[:,3]:\n",
    "        review = nltk.sent_tokenize(review)\n",
    "        for i in range(len(review)):\n",
    "            review[i] = review[i].lower()\n",
    "            for punc in string.punctuation:\n",
    "                review[i] = review[i].replace(punc, ' ')\n",
    "        sentences.append(review)\n",
    "        pbar.update(1)"
   ]
  },
  {
   "cell_type": "code",
   "execution_count": 110,
   "metadata": {
    "collapsed": false
   },
   "outputs": [
    {
     "name": "stdout",
     "output_type": "stream",
     "text": [
      "1001122\n"
     ]
    }
   ],
   "source": [
    "s = []\n",
    "for sentence in sentences:\n",
    "    for ss in sentence:\n",
    "        s.append(ss)\n",
    "print len(s)"
   ]
  },
  {
   "cell_type": "code",
   "execution_count": 111,
   "metadata": {
    "collapsed": false
   },
   "outputs": [],
   "source": [
    "for i in range(len(s)):\n",
    "    s[i] = nltk.word_tokenize(s[i])"
   ]
  },
  {
   "cell_type": "code",
   "execution_count": 115,
   "metadata": {
    "collapsed": false
   },
   "outputs": [
    {
     "name": "stdout",
     "output_type": "stream",
     "text": [
      "[[u'look', u'good', u'stick', u'good'], [u'just', u'don', u'like', u'rounded', u'shape', u'always', u'bumping', u'siri', u'kept', u'popping', u'irritating']]\n"
     ]
    }
   ],
   "source": [
    "for i in range(len(s)):\n",
    "    new_sent = []\n",
    "    for word in s[i]:\n",
    "        if word not in stopwords and len(word)>2:\n",
    "            new_sent.append(word)\n",
    "    s[i] = new_sent\n",
    "print s[0:2]"
   ]
  },
  {
   "cell_type": "code",
   "execution_count": 116,
   "metadata": {
    "collapsed": false
   },
   "outputs": [],
   "source": [
    "model = Word2Vec(s, size=100, window=5, min_count=5, workers=4)"
   ]
  },
  {
   "cell_type": "code",
   "execution_count": 117,
   "metadata": {
    "collapsed": true
   },
   "outputs": [],
   "source": [
    "model.save('word2vec-model')"
   ]
  },
  {
   "cell_type": "code",
   "execution_count": 119,
   "metadata": {
    "collapsed": false
   },
   "outputs": [],
   "source": [
    "keys = model.wv.vocab.keys()"
   ]
  },
  {
   "cell_type": "code",
   "execution_count": 120,
   "metadata": {
    "collapsed": false
   },
   "outputs": [],
   "source": [
    "key_dict = {}\n",
    "for key in keys:\n",
    "    key_dict[key] = 0\n",
    "for sentence in s:\n",
    "    for word in sentence:\n",
    "        if key_dict.has_key(word):\n",
    "            key_dict[word] += 1\n",
    "key_list = sorted(key_dict.items(), key=lambda x:x[1], reverse=True)"
   ]
  },
  {
   "cell_type": "code",
   "execution_count": 174,
   "metadata": {
    "collapsed": false
   },
   "outputs": [
    {
     "name": "stderr",
     "output_type": "stream",
     "text": [
      "100%|██████████| 194439/194439 [2:47:30<00:00, 35.41it/s]\n"
     ]
    }
   ],
   "source": [
    "features = np.array(key_list[:1000])[:,0]\n",
    "feature_matrix = []\n",
    "with tqdm(total = len(Cell_Phones_and_Accessories)) as pbar:\n",
    "    for review in Cell_Phones_and_Accessories.iloc[:,3]:\n",
    "        review = review.lower()\n",
    "        for punc in string.punctuation:\n",
    "            review = review.replace(punc, ' ')\n",
    "        review = nltk.word_tokenize(review)\n",
    "        feature_vector = np.zeros(1000)\n",
    "        feature_dict = {}\n",
    "        for feature in features:\n",
    "            feature_dict[feature] = 0\n",
    "        for word in review:\n",
    "            similar_words = []\n",
    "            if word not in stopwords and len(word)>2:\n",
    "                if model.wv.vocab.has_key(word):\n",
    "                    similar_words = model.most_similar(word)\n",
    "            for similar_word_pair in similar_words:\n",
    "                similar_word = u''+similar_word_pair[0]\n",
    "                if feature_dict.has_key(similar_word):\n",
    "                    feature_dict[similar_word] += 1\n",
    "        for i in range(len(features)):\n",
    "            feature_vector[i] = feature_dict[features[i]]\n",
    "        feature_matrix.append(feature_vector)\n",
    "        pbar.update(1)"
   ]
  },
  {
   "cell_type": "code",
   "execution_count": 175,
   "metadata": {
    "collapsed": false
   },
   "outputs": [
    {
     "data": {
      "text/plain": [
       "29341446.0"
      ]
     },
     "execution_count": 175,
     "metadata": {},
     "output_type": "execute_result"
    }
   ],
   "source": [
    "np.sum(feature_matrix)"
   ]
  },
  {
   "cell_type": "code",
   "execution_count": 176,
   "metadata": {
    "collapsed": false
   },
   "outputs": [],
   "source": [
    "np.save('word2vec_feature_matrix',feature_matrix)"
   ]
  },
  {
   "cell_type": "code",
   "execution_count": 178,
   "metadata": {
    "collapsed": true
   },
   "outputs": [],
   "source": [
    "np.savetxt('word2vec_feature_matrix.csv', feature_matrix, delimiter = ',')  "
   ]
  },
  {
   "cell_type": "code",
   "execution_count": null,
   "metadata": {
    "collapsed": true
   },
   "outputs": [],
   "source": []
  }
 ],
 "metadata": {
  "anaconda-cloud": {},
  "kernelspec": {
   "display_name": "Python [default]",
   "language": "python",
   "name": "python2"
  },
  "language_info": {
   "codemirror_mode": {
    "name": "ipython",
    "version": 2
   },
   "file_extension": ".py",
   "mimetype": "text/x-python",
   "name": "python",
   "nbconvert_exporter": "python",
   "pygments_lexer": "ipython2",
   "version": "2.7.12"
  }
 },
 "nbformat": 4,
 "nbformat_minor": 1
}
