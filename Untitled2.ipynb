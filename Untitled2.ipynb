{
 "cells": [
  {
   "cell_type": "code",
   "execution_count": null,
   "metadata": {
    "collapsed": true
   },
   "outputs": [],
   "source": [
    "export CLASSPATH=/afs/inf.ed.ac.uk/user/s16/s1678999/Documents/Msc\\ project/StanfordParser/stanford-ner-2017-06-09/stanford-ner.jar:/afs/inf.ed.ac.uk/user/s16/s1678999/Documents/Msc\\ project/StanfordParser/stanford-parser-full-2017-06-09/stanford-parser.jar:/afs/inf.ed.ac.uk/user/s16/s1678999/Documents/Msc\\ project/StanfordParser/stanford-postagger-2017-06-09/stanford-postagger.jar\n",
    "\n",
    "export STANFORD_MODELS=/afs/inf.ed.ac.uk/user/s16/s1678999/Documents/Msc\\ project/StanfordParser/stanford-ner-2017-06-09/classifiers/english.all.3class.distsim.crf.ser.gz:./stanford-postagger-2017-06-09/models/english.conll.4class.distsim.crf.ser.gz:/afs/inf.ed.ac.uk/user/s16/s1678999/Documents/Msc\\ project/StanfordParser/stanford-ner-2017-06-09/english.muc.7class.distsim.crf.ser.gz"
   ]
  }
 ],
 "metadata": {
  "kernelspec": {
   "display_name": "Python 2",
   "language": "python",
   "name": "python2"
  },
  "language_info": {
   "codemirror_mode": {
    "name": "ipython",
    "version": 2
   },
   "file_extension": ".py",
   "mimetype": "text/x-python",
   "name": "python",
   "nbconvert_exporter": "python",
   "pygments_lexer": "ipython2",
   "version": "2.7.13"
  }
 },
 "nbformat": 4,
 "nbformat_minor": 2
}
